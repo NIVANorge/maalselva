{
 "cells": [
  {
   "cell_type": "code",
   "execution_count": 10,
   "id": "b99eff1a-6f5e-4359-aa63-60b4ca83c4ec",
   "metadata": {},
   "outputs": [],
   "source": [
    "import os\n",
    "import matplotlib.pyplot as plt\n",
    "import nivapy3 as nivapy\n",
    "import pandas as pd\n",
    "\n",
    "%matplotlib inline\n",
    "# %matplotlib ipympl"
   ]
  },
  {
   "cell_type": "code",
   "execution_count": 11,
   "id": "b9f8ad9e-7c62-4f98-8ab7-95bba2d82714",
   "metadata": {},
   "outputs": [],
   "source": [
    "# User input\n",
    "stn_id = \"196.35.0\"\n",
    "\n",
    "# Parameters to download\n",
    "par_ids = [1001]  # Daily mean discharge\n",
    "\n",
    "# Resolution of data to download\n",
    "## N.B. can't get the hourly resolution data download to work, so have done that manually via Sildre for now\n",
    "resolution = 'hourly'\n",
    "resolution_dict = {'daily': 1440,\n",
    "                   'hourly': 60,\n",
    "                   'instantaneous': 0}\n",
    "\n",
    "# Start and end dates for download\n",
    "st_dt = \"1900-01-01\"\n",
    "end_dt = \"2022-01-01\"\n",
    "\n",
    "# Where to save data\n",
    "download_date = '2022-10'  # (for file naming): current month and year\n",
    "out_fpath = '../data/discharge/Q_målselvfossen_alldata_%s-resolution_downloaded-%s.csv' % (resolution, download_date)"
   ]
  },
  {
   "cell_type": "code",
   "execution_count": 12,
   "id": "d3d3e97a-5bd0-4938-9a23-7010538a19b1",
   "metadata": {},
   "outputs": [
    {
     "ename": "HTTPError",
     "evalue": "HTTP Error 400: Bad Request",
     "output_type": "error",
     "traceback": [
      "\u001b[0;31m---------------------------------------------------------------------------\u001b[0m",
      "\u001b[0;31mHTTPError\u001b[0m                                 Traceback (most recent call last)",
      "Cell \u001b[0;32mIn [12], line 2\u001b[0m\n\u001b[1;32m      1\u001b[0m \u001b[38;5;66;03m# Get daily mean discharge data\u001b[39;00m\n\u001b[0;32m----> 2\u001b[0m df \u001b[38;5;241m=\u001b[39m \u001b[43mnivapy\u001b[49m\u001b[38;5;241;43m.\u001b[39;49m\u001b[43mda\u001b[49m\u001b[38;5;241;43m.\u001b[39;49m\u001b[43mquery_nve_hydapi\u001b[49m\u001b[43m(\u001b[49m\u001b[43m[\u001b[49m\u001b[43mstn_id\u001b[49m\u001b[43m]\u001b[49m\u001b[43m,\u001b[49m\u001b[43m \u001b[49m\u001b[43mpar_ids\u001b[49m\u001b[43m,\u001b[49m\u001b[43m \u001b[49m\u001b[43mst_dt\u001b[49m\u001b[43m,\u001b[49m\u001b[43m \u001b[49m\u001b[43mend_dt\u001b[49m\u001b[43m,\u001b[49m\u001b[43m \u001b[49m\u001b[43mresolution\u001b[49m\u001b[38;5;241;43m=\u001b[39;49m\u001b[43mresolution_dict\u001b[49m\u001b[43m[\u001b[49m\u001b[43mresolution\u001b[49m\u001b[43m]\u001b[49m\u001b[43m)\u001b[49m\n\u001b[1;32m      3\u001b[0m df\u001b[38;5;241m.\u001b[39mhead()\n",
      "File \u001b[0;32m/opt/conda/lib/python3.10/site-packages/nivapy3-0.1-py3.10.egg/nivapy3/da.py:1720\u001b[0m, in \u001b[0;36mquery_nve_hydapi\u001b[0;34m(stn_ids, par_ids, st_dt, end_dt, resolution, api_key)\u001b[0m\n\u001b[1;32m   1716\u001b[0m request_headers \u001b[38;5;241m=\u001b[39m {\u001b[38;5;124m\"\u001b[39m\u001b[38;5;124mAccept\u001b[39m\u001b[38;5;124m\"\u001b[39m: \u001b[38;5;124m\"\u001b[39m\u001b[38;5;124mapplication/json\u001b[39m\u001b[38;5;124m\"\u001b[39m, \u001b[38;5;124m\"\u001b[39m\u001b[38;5;124mX-API-Key\u001b[39m\u001b[38;5;124m\"\u001b[39m: api_key}\n\u001b[1;32m   1718\u001b[0m request \u001b[38;5;241m=\u001b[39m Request(url, headers\u001b[38;5;241m=\u001b[39mrequest_headers)\n\u001b[0;32m-> 1720\u001b[0m response \u001b[38;5;241m=\u001b[39m \u001b[43murlopen\u001b[49m\u001b[43m(\u001b[49m\u001b[43mrequest\u001b[49m\u001b[43m)\u001b[49m\n\u001b[1;32m   1721\u001b[0m content \u001b[38;5;241m=\u001b[39m response\u001b[38;5;241m.\u001b[39mread()\u001b[38;5;241m.\u001b[39mdecode(\u001b[38;5;124m\"\u001b[39m\u001b[38;5;124mutf-8\u001b[39m\u001b[38;5;124m\"\u001b[39m)\n\u001b[1;32m   1723\u001b[0m parsed_result \u001b[38;5;241m=\u001b[39m json\u001b[38;5;241m.\u001b[39mloads(content)\n",
      "File \u001b[0;32m/opt/conda/lib/python3.10/urllib/request.py:216\u001b[0m, in \u001b[0;36murlopen\u001b[0;34m(url, data, timeout, cafile, capath, cadefault, context)\u001b[0m\n\u001b[1;32m    214\u001b[0m \u001b[38;5;28;01melse\u001b[39;00m:\n\u001b[1;32m    215\u001b[0m     opener \u001b[38;5;241m=\u001b[39m _opener\n\u001b[0;32m--> 216\u001b[0m \u001b[38;5;28;01mreturn\u001b[39;00m \u001b[43mopener\u001b[49m\u001b[38;5;241;43m.\u001b[39;49m\u001b[43mopen\u001b[49m\u001b[43m(\u001b[49m\u001b[43murl\u001b[49m\u001b[43m,\u001b[49m\u001b[43m \u001b[49m\u001b[43mdata\u001b[49m\u001b[43m,\u001b[49m\u001b[43m \u001b[49m\u001b[43mtimeout\u001b[49m\u001b[43m)\u001b[49m\n",
      "File \u001b[0;32m/opt/conda/lib/python3.10/urllib/request.py:525\u001b[0m, in \u001b[0;36mOpenerDirector.open\u001b[0;34m(self, fullurl, data, timeout)\u001b[0m\n\u001b[1;32m    523\u001b[0m \u001b[38;5;28;01mfor\u001b[39;00m processor \u001b[38;5;129;01min\u001b[39;00m \u001b[38;5;28mself\u001b[39m\u001b[38;5;241m.\u001b[39mprocess_response\u001b[38;5;241m.\u001b[39mget(protocol, []):\n\u001b[1;32m    524\u001b[0m     meth \u001b[38;5;241m=\u001b[39m \u001b[38;5;28mgetattr\u001b[39m(processor, meth_name)\n\u001b[0;32m--> 525\u001b[0m     response \u001b[38;5;241m=\u001b[39m \u001b[43mmeth\u001b[49m\u001b[43m(\u001b[49m\u001b[43mreq\u001b[49m\u001b[43m,\u001b[49m\u001b[43m \u001b[49m\u001b[43mresponse\u001b[49m\u001b[43m)\u001b[49m\n\u001b[1;32m    527\u001b[0m \u001b[38;5;28;01mreturn\u001b[39;00m response\n",
      "File \u001b[0;32m/opt/conda/lib/python3.10/urllib/request.py:634\u001b[0m, in \u001b[0;36mHTTPErrorProcessor.http_response\u001b[0;34m(self, request, response)\u001b[0m\n\u001b[1;32m    631\u001b[0m \u001b[38;5;66;03m# According to RFC 2616, \"2xx\" code indicates that the client's\u001b[39;00m\n\u001b[1;32m    632\u001b[0m \u001b[38;5;66;03m# request was successfully received, understood, and accepted.\u001b[39;00m\n\u001b[1;32m    633\u001b[0m \u001b[38;5;28;01mif\u001b[39;00m \u001b[38;5;129;01mnot\u001b[39;00m (\u001b[38;5;241m200\u001b[39m \u001b[38;5;241m<\u001b[39m\u001b[38;5;241m=\u001b[39m code \u001b[38;5;241m<\u001b[39m \u001b[38;5;241m300\u001b[39m):\n\u001b[0;32m--> 634\u001b[0m     response \u001b[38;5;241m=\u001b[39m \u001b[38;5;28;43mself\u001b[39;49m\u001b[38;5;241;43m.\u001b[39;49m\u001b[43mparent\u001b[49m\u001b[38;5;241;43m.\u001b[39;49m\u001b[43merror\u001b[49m\u001b[43m(\u001b[49m\n\u001b[1;32m    635\u001b[0m \u001b[43m        \u001b[49m\u001b[38;5;124;43m'\u001b[39;49m\u001b[38;5;124;43mhttp\u001b[39;49m\u001b[38;5;124;43m'\u001b[39;49m\u001b[43m,\u001b[49m\u001b[43m \u001b[49m\u001b[43mrequest\u001b[49m\u001b[43m,\u001b[49m\u001b[43m \u001b[49m\u001b[43mresponse\u001b[49m\u001b[43m,\u001b[49m\u001b[43m \u001b[49m\u001b[43mcode\u001b[49m\u001b[43m,\u001b[49m\u001b[43m \u001b[49m\u001b[43mmsg\u001b[49m\u001b[43m,\u001b[49m\u001b[43m \u001b[49m\u001b[43mhdrs\u001b[49m\u001b[43m)\u001b[49m\n\u001b[1;32m    637\u001b[0m \u001b[38;5;28;01mreturn\u001b[39;00m response\n",
      "File \u001b[0;32m/opt/conda/lib/python3.10/urllib/request.py:563\u001b[0m, in \u001b[0;36mOpenerDirector.error\u001b[0;34m(self, proto, *args)\u001b[0m\n\u001b[1;32m    561\u001b[0m \u001b[38;5;28;01mif\u001b[39;00m http_err:\n\u001b[1;32m    562\u001b[0m     args \u001b[38;5;241m=\u001b[39m (\u001b[38;5;28mdict\u001b[39m, \u001b[38;5;124m'\u001b[39m\u001b[38;5;124mdefault\u001b[39m\u001b[38;5;124m'\u001b[39m, \u001b[38;5;124m'\u001b[39m\u001b[38;5;124mhttp_error_default\u001b[39m\u001b[38;5;124m'\u001b[39m) \u001b[38;5;241m+\u001b[39m orig_args\n\u001b[0;32m--> 563\u001b[0m     \u001b[38;5;28;01mreturn\u001b[39;00m \u001b[38;5;28;43mself\u001b[39;49m\u001b[38;5;241;43m.\u001b[39;49m\u001b[43m_call_chain\u001b[49m\u001b[43m(\u001b[49m\u001b[38;5;241;43m*\u001b[39;49m\u001b[43margs\u001b[49m\u001b[43m)\u001b[49m\n",
      "File \u001b[0;32m/opt/conda/lib/python3.10/urllib/request.py:496\u001b[0m, in \u001b[0;36mOpenerDirector._call_chain\u001b[0;34m(self, chain, kind, meth_name, *args)\u001b[0m\n\u001b[1;32m    494\u001b[0m \u001b[38;5;28;01mfor\u001b[39;00m handler \u001b[38;5;129;01min\u001b[39;00m handlers:\n\u001b[1;32m    495\u001b[0m     func \u001b[38;5;241m=\u001b[39m \u001b[38;5;28mgetattr\u001b[39m(handler, meth_name)\n\u001b[0;32m--> 496\u001b[0m     result \u001b[38;5;241m=\u001b[39m \u001b[43mfunc\u001b[49m\u001b[43m(\u001b[49m\u001b[38;5;241;43m*\u001b[39;49m\u001b[43margs\u001b[49m\u001b[43m)\u001b[49m\n\u001b[1;32m    497\u001b[0m     \u001b[38;5;28;01mif\u001b[39;00m result \u001b[38;5;129;01mis\u001b[39;00m \u001b[38;5;129;01mnot\u001b[39;00m \u001b[38;5;28;01mNone\u001b[39;00m:\n\u001b[1;32m    498\u001b[0m         \u001b[38;5;28;01mreturn\u001b[39;00m result\n",
      "File \u001b[0;32m/opt/conda/lib/python3.10/urllib/request.py:643\u001b[0m, in \u001b[0;36mHTTPDefaultErrorHandler.http_error_default\u001b[0;34m(self, req, fp, code, msg, hdrs)\u001b[0m\n\u001b[1;32m    642\u001b[0m \u001b[38;5;28;01mdef\u001b[39;00m \u001b[38;5;21mhttp_error_default\u001b[39m(\u001b[38;5;28mself\u001b[39m, req, fp, code, msg, hdrs):\n\u001b[0;32m--> 643\u001b[0m     \u001b[38;5;28;01mraise\u001b[39;00m HTTPError(req\u001b[38;5;241m.\u001b[39mfull_url, code, msg, hdrs, fp)\n",
      "\u001b[0;31mHTTPError\u001b[0m: HTTP Error 400: Bad Request"
     ]
    }
   ],
   "source": [
    "# Get daily mean discharge data\n",
    "df = nivapy.da.query_nve_hydapi([stn_id], par_ids, st_dt, end_dt, resolution=resolution_dict[resolution])\n",
    "df.head()"
   ]
  },
  {
   "cell_type": "markdown",
   "id": "d177e8da-b1ff-4cc0-9673-00383497113e",
   "metadata": {},
   "source": [
    "See here for an interpretation of the correction and quality integer values: https://hydapi.nve.no/UserDocumentation/\n",
    "\n",
    "Quality types:\n",
    "* Unknown = 0\n",
    "* Uncontrolled = 1\n",
    "* PrimaryControlled = 2\n",
    "* SecondaryControlled = 3\n",
    "\n",
    "Correction type indicates whether the value has been corrected. e.g.:\n",
    "* 0: No changes\n",
    "* 1: Manual- or ice correction\n",
    "* 2: Interpolation\n",
    "* 3: Value computed with models or/and other series\n",
    "* 4: Daily mean computed with arithmetic mean. (Only used on series where we normally should use discharge curve)\n",
    "* 13: The value is calculated based on a similar station or a station close by\n",
    "* 14: The value is missing, and is only calculated based on statistical information for the data series"
   ]
  },
  {
   "cell_type": "code",
   "execution_count": null,
   "id": "ca6e3867-cb51-44c5-ac64-1f14bcc3c6c1",
   "metadata": {},
   "outputs": [],
   "source": [
    "# Reset index\n",
    "df.set_index('datetime', inplace=True)\n",
    "\n",
    "# Quick plot\n",
    "ax = plt.figure(figsize=(12, 6)).add_subplot(111)\n",
    "station_name = df['station_name'][0]\n",
    "df['value'].plot(ax=ax)\n",
    "plt.grid(True)\n",
    "plt.xlabel('')\n",
    "plt.suptitle('%s, %s' % (station_name, stn_id))\n",
    "# plt.savefig(r'../../data/NVE/raw_data_plots/%s-%s.png' % (station_name, stn_id))"
   ]
  },
  {
   "cell_type": "code",
   "execution_count": null,
   "id": "8452daff-62f0-4656-a180-e7921fe12fdd",
   "metadata": {},
   "outputs": [],
   "source": [
    "yr_list = list(range(2014, 2022))\n",
    "\n",
    "fig = plt.figure(figsize=(12, 25))\n",
    "for i, year in enumerate(yr_list):\n",
    "    ax = fig.add_subplot(len(yr_list), 1, i+1)\n",
    "    df['value'].loc['%s-01-01' % year: '%s-12-31' % year].plot(ax=ax)\n",
    "    plt.grid(True)\n",
    "    plt.xlabel('')\n",
    "    if year != 2021:\n",
    "        frame1 = plt.gca()\n",
    "        frame1.axes.xaxis.set_ticklabels([])\n",
    "    plt.ylabel(\"Q, %s\" % year)\n",
    "\n",
    "plt.tight_layout()\n",
    "# plt.savefig(r'../../data/NVE/raw_data_plots/yr_by_yr/%s-%s_yr-by-yr.png' % (station_name, stn_id))\n",
    "# plt.close()"
   ]
  },
  {
   "cell_type": "code",
   "execution_count": null,
   "id": "ea003091-d07c-4366-89bf-2812ed466a44",
   "metadata": {},
   "outputs": [],
   "source": [
    "# Save to csv\n",
    "df.to_csv(out_fpath)"
   ]
  },
  {
   "cell_type": "code",
   "execution_count": null,
   "id": "54c1132e-b334-47af-a981-bdd7e73a4195",
   "metadata": {},
   "outputs": [],
   "source": []
  }
 ],
 "metadata": {
  "kernelspec": {
   "display_name": "Python 3 (ipykernel)",
   "language": "python",
   "name": "python3"
  },
  "language_info": {
   "codemirror_mode": {
    "name": "ipython",
    "version": 3
   },
   "file_extension": ".py",
   "mimetype": "text/x-python",
   "name": "python",
   "nbconvert_exporter": "python",
   "pygments_lexer": "ipython3",
   "version": "3.10.6"
  }
 },
 "nbformat": 4,
 "nbformat_minor": 5
}
