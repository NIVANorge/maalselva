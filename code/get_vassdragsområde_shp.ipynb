{
 "cells": [
  {
   "cell_type": "code",
   "execution_count": 1,
   "id": "90e860ee-7f17-4fc5-be2d-a3504029b8b5",
   "metadata": {},
   "outputs": [],
   "source": [
    "import geopandas as gpd\n",
    "import pandas as pd\n",
    "import nivapy3 as nivapy\n",
    "from shapely.geometry import box"
   ]
  },
  {
   "cell_type": "code",
   "execution_count": 2,
   "id": "c9ec5078-714d-4fa1-ad86-b8f16f575f14",
   "metadata": {},
   "outputs": [
    {
     "name": "stdout",
     "output_type": "stream",
     "text": [
      "Connection successful.\n"
     ]
    }
   ],
   "source": [
    "# Connect to PostGIS\n",
    "eng = nivapy.da.connect_postgis()"
   ]
  },
  {
   "cell_type": "code",
   "execution_count": 3,
   "id": "5e3c57b4-a416-42ef-b83a-d64dd406f562",
   "metadata": {},
   "outputs": [],
   "source": [
    "# Get main catchment\n",
    "vassom_gdf = nivapy.da.read_postgis(\n",
    "        'physical',\n",
    "        'norway_nve_vassdragomrade_poly',\n",
    "        eng,\n",
    ")\n",
    "vassom_gdf = vassom_gdf.query(\"vassdragsomradenr == '196'\")"
   ]
  },
  {
   "cell_type": "code",
   "execution_count": 4,
   "id": "5cfd44a8-0e7b-49c4-9674-7dfe9dbde398",
   "metadata": {},
   "outputs": [
    {
     "data": {
      "text/html": [
       "<div>\n",
       "<style scoped>\n",
       "    .dataframe tbody tr th:only-of-type {\n",
       "        vertical-align: middle;\n",
       "    }\n",
       "\n",
       "    .dataframe tbody tr th {\n",
       "        vertical-align: top;\n",
       "    }\n",
       "\n",
       "    .dataframe thead th {\n",
       "        text-align: right;\n",
       "    }\n",
       "</style>\n",
       "<table border=\"1\" class=\"dataframe\">\n",
       "  <thead>\n",
       "    <tr style=\"text-align: right;\">\n",
       "      <th></th>\n",
       "      <th>objekttype</th>\n",
       "      <th>vassdragsomradenr</th>\n",
       "      <th>vassdragsomrade</th>\n",
       "      <th>arealland_km2</th>\n",
       "      <th>areal_km2</th>\n",
       "      <th>geom</th>\n",
       "      <th>id</th>\n",
       "    </tr>\n",
       "  </thead>\n",
       "  <tbody>\n",
       "    <tr>\n",
       "      <th>188</th>\n",
       "      <td>Vassdragsområde</td>\n",
       "      <td>196</td>\n",
       "      <td>Målselvvassdraget/Malangen</td>\n",
       "      <td>6687</td>\n",
       "      <td>6876</td>\n",
       "      <td>MULTIPOLYGON (((18.44592 69.51074, 18.45366 69...</td>\n",
       "      <td>196</td>\n",
       "    </tr>\n",
       "  </tbody>\n",
       "</table>\n",
       "</div>"
      ],
      "text/plain": [
       "          objekttype vassdragsomradenr             vassdragsomrade  \\\n",
       "188  Vassdragsområde               196  Målselvvassdraget/Malangen   \n",
       "\n",
       "     arealland_km2  areal_km2  \\\n",
       "188           6687       6876   \n",
       "\n",
       "                                                  geom   id  \n",
       "188  MULTIPOLYGON (((18.44592 69.51074, 18.45366 69...  196  "
      ]
     },
     "execution_count": 4,
     "metadata": {},
     "output_type": "execute_result"
    }
   ],
   "source": [
    "vassom_gdf.head()"
   ]
  },
  {
   "cell_type": "code",
   "execution_count": 5,
   "id": "3b5d45ba-b4a8-49c1-b06b-17778990abb5",
   "metadata": {},
   "outputs": [
    {
     "data": {
      "text/html": [
       "<div>\n",
       "<style scoped>\n",
       "    .dataframe tbody tr th:only-of-type {\n",
       "        vertical-align: middle;\n",
       "    }\n",
       "\n",
       "    .dataframe tbody tr th {\n",
       "        vertical-align: top;\n",
       "    }\n",
       "\n",
       "    .dataframe thead th {\n",
       "        text-align: right;\n",
       "    }\n",
       "</style>\n",
       "<table border=\"1\" class=\"dataframe\">\n",
       "  <thead>\n",
       "    <tr style=\"text-align: right;\">\n",
       "      <th></th>\n",
       "      <th>index</th>\n",
       "      <th>objekttype</th>\n",
       "      <th>nummer</th>\n",
       "      <th>navn</th>\n",
       "      <th>a_land_km2</th>\n",
       "      <th>areal_km2</th>\n",
       "      <th>geom</th>\n",
       "      <th>id</th>\n",
       "    </tr>\n",
       "  </thead>\n",
       "  <tbody>\n",
       "    <tr>\n",
       "      <th>0</th>\n",
       "      <td>188</td>\n",
       "      <td>Vassdragsområde</td>\n",
       "      <td>196</td>\n",
       "      <td>Målselvvassdraget/Malangen</td>\n",
       "      <td>6687</td>\n",
       "      <td>6876</td>\n",
       "      <td>MULTIPOLYGON (((18.44592 69.51074, 18.45366 69...</td>\n",
       "      <td>196</td>\n",
       "    </tr>\n",
       "  </tbody>\n",
       "</table>\n",
       "</div>"
      ],
      "text/plain": [
       "   index       objekttype nummer                        navn  a_land_km2  \\\n",
       "0    188  Vassdragsområde    196  Målselvvassdraget/Malangen        6687   \n",
       "\n",
       "   areal_km2                                               geom   id  \n",
       "0       6876  MULTIPOLYGON (((18.44592 69.51074, 18.45366 69...  196  "
      ]
     },
     "execution_count": 5,
     "metadata": {},
     "output_type": "execute_result"
    }
   ],
   "source": [
    "vassom_gdf.rename({'vassdragsomradenr': 'nummer',\n",
    "                   'vassdragsomrade': 'navn',\n",
    "                   'arealland_km2': 'a_land_km2',\n",
    "                   'areal_km2': 'areal_km2',\n",
    "                   },\n",
    "                  axis='columns',\n",
    "                  inplace=True)\n",
    "vassom_gdf.reset_index(inplace=True)\n",
    "vassom_gdf.head()"
   ]
  },
  {
   "cell_type": "code",
   "execution_count": 6,
   "id": "55f6ddc9-8047-4db6-a257-211ffb1c7db4",
   "metadata": {},
   "outputs": [
    {
     "data": {
      "text/plain": [
       "<AxesSubplot:>"
      ]
     },
     "execution_count": 6,
     "metadata": {},
     "output_type": "execute_result"
    },
    {
     "data": {
      "image/png": "[encoded data removed]",
      "text/plain": [
       "<Figure size 432x288 with 1 Axes>"
      ]
     },
     "metadata": {
      "needs_background": "light"
     },
     "output_type": "display_data"
    }
   ],
   "source": [
    "vassom_gdf.plot()"
   ]
  },
  {
   "cell_type": "code",
   "execution_count": 7,
   "id": "977b0ba3-dee6-48ff-bfff-ed6a8871ef54",
   "metadata": {},
   "outputs": [
    {
     "name": "stderr",
     "output_type": "stream",
     "text": [
      "/opt/conda/lib/python3.9/site-packages/geopandas/io/file.py:362: FutureWarning: pandas.Int64Index is deprecated and will be removed from pandas in a future version. Use pandas.Index with the appropriate dtype instead.\n",
      "  pd.Int64Index,\n"
     ]
    }
   ],
   "source": [
    "vassom_gdf.to_file(\"Målselva_Malangen_vassdragsområde_196.shp\")"
   ]
  },
  {
   "cell_type": "code",
   "execution_count": null,
   "id": "448048c0-71cb-4bd3-912f-8738fc030e82",
   "metadata": {},
   "outputs": [],
   "source": []
  }
 ],
 "metadata": {
  "kernelspec": {
   "display_name": "Python 3 (ipykernel)",
   "language": "python",
   "name": "python3"
  },
  "language_info": {
   "codemirror_mode": {
    "name": "ipython",
    "version": 3
   },
   "file_extension": ".py",
   "mimetype": "text/x-python",
   "name": "python",
   "nbconvert_exporter": "python",
   "pygments_lexer": "ipython3",
   "version": "3.9.10"
  }
 },
 "nbformat": 4,
 "nbformat_minor": 5
}
